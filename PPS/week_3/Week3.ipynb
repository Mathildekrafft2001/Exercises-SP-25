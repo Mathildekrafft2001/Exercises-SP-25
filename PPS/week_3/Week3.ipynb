{
  "cells": [
    {
      "cell_type": "markdown",
      "metadata": {
        "id": "DW26ebajsdVk"
      },
      "source": [
        "# **Stochastic Inventory Models**"
      ]
    },
    {
      "cell_type": "markdown",
      "metadata": {
        "id": "DiYxNSVvshEA"
      },
      "source": [
        "## **Newsvendor Problem**\n",
        "\n",
        "---\n",
        "\n",
        "The newsvendor (newsboy) model is a mathematical model in operations management and applied economics used to determine optimal inventory levels. It is (typically) characterized by fixed prices and *uncertain demand* for a *perishable product*."
      ]
    },
    {
      "cell_type": "code",
      "execution_count": null,
      "metadata": {
        "id": "66ZNwb26saU1"
      },
      "outputs": [],
      "source": [
        "import matplotlib.pyplot as plt\n",
        "from scipy.stats import norm as normSci\n",
        "import numpy as np\n",
        "import pandas as pd\n",
        "from google.colab import files\n",
        "import io\n",
        "from pylab import *\n",
        "import math"
      ]
    },
    {
      "cell_type": "markdown",
      "metadata": {
        "id": "QGXq85CVs2ZR"
      },
      "source": [
        "\n",
        "Symbol       | Description                                    \n",
        "--- | :---:\n",
        "r      | Revenue of one product                     \n",
        "c      | Cost of one product                       \n",
        "w      | Salvage value of one product"
      ]
    },
    {
      "cell_type": "code",
      "execution_count": null,
      "metadata": {
        "id": "kq6mNL8Mw2HM"
      },
      "outputs": [],
      "source": [
        "r = 1.00\n",
        "c = 0.60\n",
        "w = 0.25\n",
        "\n",
        "scenarios = [['Low Demand',75,.25],['High Demand',200,.75]]"
      ]
    },
    {
      "cell_type": "markdown",
      "metadata": {
        "id": "ajeTtL7MvDH7"
      },
      "source": [
        "### **Cost Function**"
      ]
    },
    {
      "cell_type": "markdown",
      "metadata": {
        "id": "gDuiKwefvF99"
      },
      "source": [
        "\\begin{equation}\n",
        "C_o\\sum_{0\\leq k \\leq Q} p_k(Q -k) +  C_u\\sum_{k \\geq Q} p_k(k-Q)\n",
        "\\end{equation}"
      ]
    },
    {
      "cell_type": "code",
      "execution_count": null,
      "metadata": {
        "colab": {
          "base_uri": "https://localhost:8080/",
          "height": 466
        },
        "id": "7RMR55LOsxyC",
        "outputId": "b52d4102-c7f3-4cd3-9458-87bf356004cf"
      },
      "outputs": [],
      "source": [
        "def cost(D,Q):\n",
        "    return (r-c)*max(D-Q,0) + (c-w)*max(Q-D,0)\n",
        "\n",
        "def excost(Q):\n",
        "    v = 0\n",
        "    for s in scenarios:\n",
        "        v += s[2]*cost(s[1],Q)\n",
        "    return v\n",
        "\n",
        "Q = np.linspace(0,400,400)\n",
        "plt.plot(Q,[excost(q) for q in Q])\n",
        "plt.xlabel('Order size')\n",
        "plt.ylabel('Expected Cost')"
      ]
    },
    {
      "cell_type": "markdown",
      "metadata": {
        "id": "rTB21hW0rW7l"
      },
      "source": [
        "### **Data**"
      ]
    },
    {
      "cell_type": "code",
      "execution_count": null,
      "metadata": {
        "colab": {
          "base_uri": "https://localhost:8080/",
          "height": 106
        },
        "id": "LXysMh1ryqRH",
        "outputId": "cb42c45e-aa93-4666-ff50-ccbe3532f873"
      },
      "outputs": [],
      "source": [
        "# Colab\n",
        "uploaded = files.upload()"
      ]
    },
    {
      "cell_type": "code",
      "execution_count": null,
      "metadata": {
        "colab": {
          "base_uri": "https://localhost:8080/",
          "height": 206
        },
        "id": "jbKSsov71B4_",
        "outputId": "5b28490b-cd57-4586-c67c-e7d698fee166"
      },
      "outputs": [],
      "source": [
        "df_1 = pd.read_csv(io.BytesIO(uploaded['data_lab3_1.csv']))\n",
        "df_1.head()"
      ]
    },
    {
      "cell_type": "markdown",
      "metadata": {
        "id": "JHyZDLfYEl3L"
      },
      "source": [
        "#### TO DO"
      ]
    },
    {
      "cell_type": "code",
      "execution_count": null,
      "metadata": {
        "colab": {
          "base_uri": "https://localhost:8080/"
        },
        "id": "CHmCtCtD1EW6",
        "outputId": "4bec7065-b16c-41c8-e243-67c44a7ce05a"
      },
      "outputs": [],
      "source": [
        "mu = df_1.mean()[0]\n",
        "sigma = df_1.std()[0]\n",
        "Supply = {'Price': 10.0, 'Cost': 6.0, 'SalvageCost': 2.0}\n",
        "r = Supply['Price']\n",
        "c = Supply['Cost']\n",
        "w = Supply['SalvageCost']\n",
        "print(mu,sigma)"
      ]
    },
    {
      "cell_type": "markdown",
      "metadata": {
        "id": "_sJu5FyV1MCq"
      },
      "source": [
        "### **Solution** To Do\n",
        "\n",
        "\\begin{equation}\n",
        "F(Q^⋆) = \\frac{C_u}{C_u + C_o}\n",
        "\\end{equation}"
      ]
    },
    {
      "cell_type": "code",
      "execution_count": null,
      "metadata": {
        "colab": {
          "base_uri": "https://localhost:8080/"
        },
        "id": "lTkeYzks1STF",
        "outputId": "c0d2e53b-0442-42a9-d0ee-4157a0b6a610"
      },
      "outputs": [],
      "source": [
        "...\n",
        "print(Q)"
      ]
    },
    {
      "cell_type": "code",
      "execution_count": null,
      "metadata": {
        "colab": {
          "base_uri": "https://localhost:8080/",
          "height": 654
        },
        "id": "itRPlD-W1WfH",
        "outputId": "9a467c8a-9e46-474a-af69-f02cdc1e5cf5"
      },
      "outputs": [],
      "source": [
        "Q_ = Q-df_1['Demand']\n",
        "print(Q_.mean())\n",
        "figure(figsize =(10, 7))\n",
        "plot(Q_)\n",
        "hlines(0,0,1000,linestyles ='dashed',color='k')\n",
        "\n",
        "plt.xlabel('time')\n",
        "plt.ylabel('inventory level')"
      ]
    },
    {
      "cell_type": "markdown",
      "metadata": {
        "id": "b5m08LZV2dGW"
      },
      "source": [
        "# **Base Stock Policy**"
      ]
    },
    {
      "cell_type": "markdown",
      "metadata": {
        "id": "rzrWlwyb2nz_"
      },
      "source": [
        "## **Continuous Reveiw**\n",
        "\n",
        "---\n",
        "\n",
        "The reorder point (ROP) is the level of inventory which triggers an action to replenish that particular inventory stock. It is a minimum amount of an item which a firm holds in stock, such that, when stock falls to this amount, the item must be reordered. It is normally calculated as the forecast usage during the replenishment lead time plus safety stock."
      ]
    },
    {
      "cell_type": "code",
      "execution_count": null,
      "metadata": {
        "colab": {
          "base_uri": "https://localhost:8080/",
          "height": 206
        },
        "id": "B52w17hGWlm7",
        "outputId": "25ea7d97-ec19-444b-e9db-f44ecf85805c"
      },
      "outputs": [],
      "source": [
        "df_2 = pd.read_csv(io.BytesIO(uploaded['data_lab3_2.csv']))\n",
        "df_2.head()"
      ]
    },
    {
      "cell_type": "markdown",
      "metadata": {
        "id": "5YBrRoYGeLKs"
      },
      "source": [
        "Symbole | Description\n",
        "--- | ---\n",
        "Q  | Ordering quantity\n",
        "R  | Reordering point\n",
        "K  | Cost to place an order\n",
        "h | Cost of holding an item for one year\n",
        "$\\mu$ | Annual Demand\n",
        "$\\sigma$ | standard deviation of demand\n",
        "$τ$ | Lead Time\n",
        "$α$ | Service Level"
      ]
    },
    {
      "cell_type": "code",
      "execution_count": null,
      "metadata": {
        "colab": {
          "base_uri": "https://localhost:8080/"
        },
        "id": "DdCvT8kTq2rB",
        "outputId": "d5b2fcc6-f011-4be0-ba5d-a437c6437213"
      },
      "outputs": [],
      "source": [
        "K = 20\n",
        "# mu = 200  # per day\n",
        "# sigma = 150 # per day\n",
        "mu = round(df_2['Demand'].mean())  #df_2.mean()[0]\n",
        "sigma = round(df_2['Demand'].std())\n",
        "p = .20 # of cost, inventory's monetary value per year\n",
        "tau = 4 # days\n",
        "alpha = .95\n",
        "cost = 10 # item cost\n",
        "working_weeks = 50 # per year\n",
        "working_days = 5 # per week\n",
        "\n",
        "print(mu, sigma)"
      ]
    },
    {
      "cell_type": "markdown",
      "metadata": {
        "id": "WRW-KySHnsEn"
      },
      "source": [
        "### **Optimum (R,Q)** To Do"
      ]
    },
    {
      "cell_type": "code",
      "execution_count": null,
      "metadata": {
        "colab": {
          "base_uri": "https://localhost:8080/"
        },
        "id": "ZUaRhxf0RwwN",
        "outputId": "8e606841-d8d4-4e28-e7b7-7aa0a8ccf118"
      },
      "outputs": [],
      "source": [
        "def Continuous_Review_Q(K,mu,h):\n",
        "    return ...\n",
        "\n",
        "def Continuous_Review_R(Q_,mu,sigma,Leadtime,alpha):\n",
        "    return ...\n",
        "\n",
        "h = p * cost\n",
        "mu_annual = mu * working_days * working_weeks\n",
        "Qstar = Continuous_Review_Q(K,mu_annual,h)\n",
        "\n",
        "Rstar = Continuous_Review_R(Qstar,mu,sigma,tau,alpha)\n",
        "\n",
        "print(round(Qstar))\n",
        "print(round(Rstar))"
      ]
    },
    {
      "cell_type": "code",
      "execution_count": null,
      "metadata": {
        "colab": {
          "base_uri": "https://localhost:8080/",
          "height": 909
        },
        "id": "YCI-D9i4q2rC",
        "outputId": "9073c5ad-3e76-43c4-fdf1-97c192cf5146"
      },
      "outputs": [],
      "source": [
        "def Q_R_plot(data):\n",
        "\n",
        "    # Convert to DataFrame\n",
        "    df = pd.DataFrame(data)\n",
        "\n",
        "    # Set Initial Inventory Level\n",
        "    initial_inventory = 1400\n",
        "    On_hand_inventory = [initial_inventory]\n",
        "    On_order_inventory = [0]  # List to track pending orders (date they will arrive)\n",
        "    On_order_inventory_date = []\n",
        "\n",
        "    # Simulate Inventory Over Time\n",
        "    for i in range(len(df)):\n",
        "        # Receive inventory if orders were placed \"Lead_Time\" days ago\n",
        "        if On_order_inventory_date and On_order_inventory_date[0][0] == df.loc[i, \"Date\"]:\n",
        "            On_hand_inventory[-1] = On_hand_inventory[-1] + On_order_inventory_date.pop(0)[1] # Add order quantity\n",
        "            On_order_inventory[-1] = 0\n",
        "            On_order_inventory[-(data[\"Lead_Time\"] + 1)] = 0\n",
        "            \n",
        "        # Compute new inventory level after demand is met\n",
        "        new_inventory = On_hand_inventory[-1] - df.loc[i, \"Demand\"]\n",
        "        \n",
        "        \n",
        "        # If inventory falls below reorder point, place an order\n",
        "        if new_inventory + (On_order_inventory[-1] if len(On_order_inventory) >= 2 else 0) <= data[\"Reorder_Point\"]:\n",
        "            On_order_inventory_date.append((df.loc[i, \"Date\"] + data[\"Lead_Time\"] + 1, data[\"Order_Quantity\"]))\n",
        "            On_order_inventory.append(data[\"Order_Quantity\"])\n",
        "        else:\n",
        "            On_order_inventory.append(On_order_inventory[-1])\n",
        "        \n",
        "        # Append new inventory level\n",
        "        On_hand_inventory.append(new_inventory)\n",
        "\n",
        "    # Remove the first initial inventory (optional)\n",
        "    On_hand_inventory = On_hand_inventory[1:]\n",
        "    On_order_inventory = On_order_inventory[1:]\n",
        "\n",
        "    # Add computed inventory levels to DataFrame\n",
        "    df[\"On_hand_inventory\"] = On_hand_inventory\n",
        "    df[\"On_order_inventory\"] = On_order_inventory\n",
        "    df[\"Inventory_position\"] =  [a + b for a, b in zip(On_order_inventory, On_hand_inventory)]\n",
        "\n",
        "    # Display table\n",
        "    display(df)\n",
        "\n",
        "    # Plot Inventory Levels Over Time\n",
        "    plt.figure(figsize=(15, 5))\n",
        "\n",
        "    plt.plot(df[\"Date\"], df[\"On_hand_inventory\"], label=\"On-hand Inventory\")\n",
        "    plt.plot(df[\"Date\"], df['On_order_inventory'], label=\"On-order Inventory\")\n",
        "    plt.plot(df[\"Date\"], df['Inventory_position'], linestyle=\"--\", label=\"Inventory Position\")\n",
        "    plt.axhline(y=data[\"Reorder_Point\"], color='r', label=\"Reorder Point\")  # Mark reorder point\n",
        "\n",
        "    plt.xlabel(\"Date\")\n",
        "    plt.ylabel(\"Inventory Level\")\n",
        "    plt.title(\"Inventory Levels Over Time with Lead Time\")\n",
        "\n",
        "    plt.legend()\n",
        "    plt.grid()\n",
        "    plt.xticks(rotation=45)\n",
        "    plt.show()\n"
      ]
    },
    {
      "cell_type": "code",
      "execution_count": null,
      "metadata": {},
      "outputs": [],
      "source": [
        "data = {\n",
        "    \"Demand\": df_2['Demand'],  # Daily demand\n",
        "    \"Date\": range(1,1+len(df_2['Demand'])),  # Time period\n",
        "    \"Reorder_Point\": round(Rstar),  # Inventory level at which we order\n",
        "    \"Order_Quantity\": round(Qstar),  # Fixed order quantity\n",
        "    \"Lead_Time\": tau  # Number of days before the order arrives\n",
        "}\n",
        "\n",
        "Q_R_plot(data)"
      ]
    },
    {
      "cell_type": "markdown",
      "metadata": {
        "id": "9x2n6WYwF6t1"
      },
      "source": [
        "### **relation between $\\alpha$ and reordering point**"
      ]
    },
    {
      "cell_type": "code",
      "execution_count": null,
      "metadata": {
        "colab": {
          "base_uri": "https://localhost:8080/",
          "height": 470
        },
        "id": "7RQII6b6GDy2",
        "outputId": "3fd50444-3221-4279-9d25-cc3aff85cb1e"
      },
      "outputs": [],
      "source": [
        "alpha_ = np.arange(0.5, 1., 0.1)\n",
        "plot(alpha_,Continuous_Review_R(Qstar,mu,sigma,tau,alpha_))\n",
        "plt.xlabel('$alpha$')\n",
        "plt.ylabel('Reordering Point')"
      ]
    },
    {
      "cell_type": "markdown",
      "metadata": {
        "id": "ZPl8EwmW2hRG"
      },
      "source": [
        "## **Periodic Review**\n",
        "\n",
        "\n",
        "---\n",
        "\n",
        "With the periodic review system, you determine the quantity of an item your company has on hand at specified, fixed-time intervals (such as every Friday or the last day of every month). You place an order for an amount (Q) equal to the target inventory level (TI), minus the quantity on hand (OH), similar to the min-max system.\n",
        "\n",
        "The difference is that with the periodic review system, the time between orders is constant (such as every hour, every day, every week, or every month) with varying quantities ordered. The min-max system varies both the time between orders and the quantities ordered.An advantage of the periodic review system is that inventory is counted only at specific time intervals. You do not need to monitor the inventory level between review periods."
      ]
    },
    {
      "cell_type": "markdown",
      "metadata": {
        "id": "lolTpNw6rkCT"
      },
      "source": [
        "### **Optimum (S,T)** To Do"
      ]
    },
    {
      "cell_type": "code",
      "execution_count": null,
      "metadata": {
        "colab": {
          "base_uri": "https://localhost:8080/"
        },
        "id": "y3QNphNujltr",
        "outputId": "3394a8b6-ab3f-4431-adc0-97ef623aae76"
      },
      "outputs": [],
      "source": [
        "def Periodic_Review_Cycle_T(K,mu,h):\n",
        "    return ...\n",
        "\n",
        "def Periodic_Review_S(Cycle_time,mu,sigma,Leadtime,alpha):\n",
        "    return ...\n",
        "\n",
        "h = p * cost\n",
        "mu_annual = mu * working_days * working_weeks\n",
        "\n",
        "Cycle_time = Periodic_Review_Cycle_T(K,mu_annual,h)\n",
        "\n",
        "Cycle_time_in_days = np.ceil(Cycle_time) * working_weeks * working_days\n",
        "InventoryLimit = Periodic_Review_S(Cycle_time_in_days,mu,sigma,tau,alpha)\n",
        "\n",
        "print(round(Cycle_time,2))\n",
        "print(round(Cycle_time_in_days))\n",
        "print(round(InventoryLimit))"
      ]
    },
    {
      "cell_type": "code",
      "execution_count": null,
      "metadata": {
        "colab": {
          "base_uri": "https://localhost:8080/",
          "height": 909
        },
        "id": "6NCDXBEkq2rD",
        "outputId": "39c3c0ac-f1b2-4eec-b803-9ef4095b3e99"
      },
      "outputs": [],
      "source": [
        "def S_T_plot(data):\n",
        "\n",
        "    # Convert to DataFrame\n",
        "    df = pd.DataFrame(data)\n",
        "\n",
        "    # Set Initial Inventory Level\n",
        "    initial_inventory = 1400\n",
        "    On_hand_inventory = [initial_inventory]\n",
        "    On_order_inventory = [0]  # Track orders placed\n",
        "    On_order_inventory_date = []  # Track when orders will arrive\n",
        "\n",
        "    # Simulate Inventory Over Time\n",
        "    for i in range(len(df)):\n",
        "        current_date = df.loc[i, \"Date\"]\n",
        "        \n",
        "        # Receive inventory if orders were placed \"Lead_Time\" days ago\n",
        "        while On_order_inventory_date and On_order_inventory_date[0][0] == current_date:\n",
        "            On_hand_inventory[-1] += On_order_inventory_date.pop(0)[1]  # Add arriving order\n",
        "            On_order_inventory[-1] = 0\n",
        "            On_order_inventory[-(tau + 1)] = 0\n",
        "\n",
        "        # Compute new inventory level after demand is subtracted\n",
        "        new_inventory = On_hand_inventory[-1] - df.loc[i, \"Demand\"]\n",
        "\n",
        "        # Check if it's time to review inventory (every T days)\n",
        "        if current_date % data['Review_Period'] == 0 and i != 0:\n",
        "            order_quantity = max(0, data['Max_Inventory_Level'] - new_inventory)  # Order up to max level S\n",
        "            \n",
        "            if order_quantity > 0:\n",
        "                On_order_inventory_date.append((current_date + tau + 1, order_quantity))  # Order arrives in lead time\n",
        "                On_order_inventory.append(order_quantity)  # Track amount ordered\n",
        "        else:\n",
        "            On_order_inventory.append(On_order_inventory[-1])\n",
        "\n",
        "        # Append new inventory level\n",
        "        On_hand_inventory.append(new_inventory)\n",
        "\n",
        "    # Remove the first initial inventory (optional)\n",
        "    Inventory_position = [a + b for a, b in zip(On_order_inventory, On_hand_inventory)]\n",
        "    On_hand_inventory = On_hand_inventory[1:]\n",
        "    On_order_inventory = On_order_inventory[1:]\n",
        "\n",
        "    # Add computed inventory levels to DataFrame\n",
        "    df[\"On_hand_inventory\"] = On_hand_inventory\n",
        "    df[\"On_order_inventory\"] = On_order_inventory\n",
        "    df[\"Inventory_position\"] = Inventory_position[1:]\n",
        "\n",
        "    # Display table\n",
        "    display(df)\n",
        "\n",
        "    # Plot Inventory Levels Over Time\n",
        "    plt.figure(figsize=(15, 5))\n",
        "\n",
        "    plt.plot(df[\"Date\"], df[\"On_hand_inventory\"], label=\"On-hand Inventory\")\n",
        "    plt.plot(df[\"Date\"], df['On_order_inventory'], label=\"On-order Inventory\", color=\"orange\")\n",
        "    plt.plot(df[\"Date\"], df['Inventory_position'], linestyle=\"--\", label=\"Inventory Position\", color=\"green\")\n",
        "    plt.axhline(y = data['Max_Inventory_Level'], color='r', label=\"Max Inventory Level (S)\")  # Mark max inventory level\n",
        "\n",
        "    plt.xlabel(\"Date\")\n",
        "    plt.ylabel(\"Inventory Level\")\n",
        "    plt.title(\"Periodic Review Inventory Model (Review period ={}, Max inventory level ={})\".format(data['Review_Period'], data['Max_Inventory_Level']))\n",
        "\n",
        "    plt.legend()\n",
        "    plt.grid()\n",
        "    plt.xticks(rotation=45)\n",
        "    plt.show()"
      ]
    },
    {
      "cell_type": "code",
      "execution_count": null,
      "metadata": {},
      "outputs": [],
      "source": [
        "data = {\n",
        "    \"Demand\": mu,  # Daily demand\n",
        "    \"Date\": range(1, 1 + len(df_2['Demand'])),  # Time period\n",
        "    \"Review_Period\": round(Cycle_time_in_days),  # Period in which inventory is reviewed\n",
        "    \"Max_Inventory_Level\": round(InventoryLimit),  # Maximum stock level\n",
        "    \"Lead_Time\": tau  # Number of days before order arrives\n",
        "}\n",
        "\n",
        "S_T_plot(data)"
      ]
    },
    {
      "cell_type": "markdown",
      "metadata": {
        "id": "5hLYiIj-rtcZ"
      },
      "source": [
        "### **relation between $\\alpha$ and $S$**"
      ]
    },
    {
      "cell_type": "code",
      "execution_count": null,
      "metadata": {
        "colab": {
          "base_uri": "https://localhost:8080/",
          "height": 470
        },
        "id": "09gNirR_qPlF",
        "outputId": "3aca5d0a-d307-427c-c9ca-79ff4b30bba8"
      },
      "outputs": [],
      "source": [
        "..."
      ]
    },
    {
      "cell_type": "markdown",
      "metadata": {
        "id": "cDhnaGQVstR2"
      },
      "source": [
        "### **relation between $T$ and $S$**"
      ]
    },
    {
      "cell_type": "code",
      "execution_count": null,
      "metadata": {
        "colab": {
          "base_uri": "https://localhost:8080/",
          "height": 466
        },
        "id": "POxTYcldqqcR",
        "outputId": "1941c3fa-cb78-4453-932c-28ce88e4c98f"
      },
      "outputs": [],
      "source": [
        "..."
      ]
    },
    {
      "cell_type": "code",
      "execution_count": null,
      "metadata": {
        "id": "kYlmU0TKrCfI"
      },
      "outputs": [],
      "source": []
    }
  ],
  "metadata": {
    "colab": {
      "provenance": []
    },
    "kernelspec": {
      "display_name": "Python 3",
      "name": "python3"
    },
    "language_info": {
      "codemirror_mode": {
        "name": "ipython",
        "version": 3
      },
      "file_extension": ".py",
      "mimetype": "text/x-python",
      "name": "python",
      "nbconvert_exporter": "python",
      "pygments_lexer": "ipython3",
      "version": "3.8.8"
    }
  },
  "nbformat": 4,
  "nbformat_minor": 0
}
